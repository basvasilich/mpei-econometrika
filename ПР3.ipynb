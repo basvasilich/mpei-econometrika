{
 "cells": [
  {
   "cell_type": "markdown",
   "id": "550b2ad8",
   "metadata": {},
   "source": [
    "## ПР3"
   ]
  },
  {
   "cell_type": "markdown",
   "id": "23132a46",
   "metadata": {},
   "source": [
    "#### Подготовил Вадим Пацев группа ИЭоз-60-18"
   ]
  },
  {
   "cell_type": "code",
   "execution_count": 123,
   "id": "662ecf5d",
   "metadata": {},
   "outputs": [],
   "source": [
    "import pandas as pd\n",
    "import numpy as np\n",
    "import statsmodels.api as sm\n",
    "from scipy.stats import t, f\n",
    "\n",
    "import warnings\n",
    "warnings.filterwarnings('ignore')"
   ]
  },
  {
   "cell_type": "code",
   "execution_count": 124,
   "id": "bfa7b5be",
   "metadata": {},
   "outputs": [
    {
     "data": {
      "text/html": [
       "<div>\n",
       "<style scoped>\n",
       "    .dataframe tbody tr th:only-of-type {\n",
       "        vertical-align: middle;\n",
       "    }\n",
       "\n",
       "    .dataframe tbody tr th {\n",
       "        vertical-align: top;\n",
       "    }\n",
       "\n",
       "    .dataframe thead th {\n",
       "        text-align: right;\n",
       "    }\n",
       "</style>\n",
       "<table border=\"1\" class=\"dataframe\">\n",
       "  <thead>\n",
       "    <tr style=\"text-align: right;\">\n",
       "      <th></th>\n",
       "      <th>x1</th>\n",
       "      <th>x2</th>\n",
       "      <th>y</th>\n",
       "    </tr>\n",
       "  </thead>\n",
       "  <tbody>\n",
       "    <tr>\n",
       "      <th>0</th>\n",
       "      <td>8</td>\n",
       "      <td>5</td>\n",
       "      <td>5</td>\n",
       "    </tr>\n",
       "    <tr>\n",
       "      <th>1</th>\n",
       "      <td>11</td>\n",
       "      <td>8</td>\n",
       "      <td>10</td>\n",
       "    </tr>\n",
       "    <tr>\n",
       "      <th>2</th>\n",
       "      <td>12</td>\n",
       "      <td>8</td>\n",
       "      <td>10</td>\n",
       "    </tr>\n",
       "    <tr>\n",
       "      <th>3</th>\n",
       "      <td>9</td>\n",
       "      <td>5</td>\n",
       "      <td>7</td>\n",
       "    </tr>\n",
       "    <tr>\n",
       "      <th>4</th>\n",
       "      <td>8</td>\n",
       "      <td>7</td>\n",
       "      <td>5</td>\n",
       "    </tr>\n",
       "    <tr>\n",
       "      <th>5</th>\n",
       "      <td>8</td>\n",
       "      <td>8</td>\n",
       "      <td>6</td>\n",
       "    </tr>\n",
       "    <tr>\n",
       "      <th>6</th>\n",
       "      <td>9</td>\n",
       "      <td>6</td>\n",
       "      <td>6</td>\n",
       "    </tr>\n",
       "    <tr>\n",
       "      <th>7</th>\n",
       "      <td>9</td>\n",
       "      <td>4</td>\n",
       "      <td>5</td>\n",
       "    </tr>\n",
       "    <tr>\n",
       "      <th>8</th>\n",
       "      <td>8</td>\n",
       "      <td>5</td>\n",
       "      <td>6</td>\n",
       "    </tr>\n",
       "    <tr>\n",
       "      <th>9</th>\n",
       "      <td>12</td>\n",
       "      <td>7</td>\n",
       "      <td>8</td>\n",
       "    </tr>\n",
       "  </tbody>\n",
       "</table>\n",
       "</div>"
      ],
      "text/plain": [
       "   x1  x2   y\n",
       "0   8   5   5\n",
       "1  11   8  10\n",
       "2  12   8  10\n",
       "3   9   5   7\n",
       "4   8   7   5\n",
       "5   8   8   6\n",
       "6   9   6   6\n",
       "7   9   4   5\n",
       "8   8   5   6\n",
       "9  12   7   8"
      ]
     },
     "execution_count": 124,
     "metadata": {},
     "output_type": "execute_result"
    }
   ],
   "source": [
    "# Данные про шахты\n",
    "\n",
    "df = pd.DataFrame(data={'x1': [8,11,12,9,8,8,9,9,8,12], 'x2': [5,8,8,5,7,8,6,4,5,7], 'y':[5,10,10,7,5,6,6,5,6,8]})\n",
    "df"
   ]
  },
  {
   "cell_type": "code",
   "execution_count": 125,
   "id": "1f5097de",
   "metadata": {},
   "outputs": [],
   "source": [
    "x = df[['x1', 'x2']]\n",
    "y = df['y']"
   ]
  },
  {
   "cell_type": "markdown",
   "id": "33a1eba2",
   "metadata": {},
   "source": [
    "### 1. Определить параметры линейной регрессии. Пояснить их смысл."
   ]
  },
  {
   "cell_type": "code",
   "execution_count": 126,
   "id": "54ba4284",
   "metadata": {},
   "outputs": [
    {
     "name": "stdout",
     "output_type": "stream",
     "text": [
      "                            OLS Regression Results                            \n",
      "==============================================================================\n",
      "Dep. Variable:                      y   R-squared:                       0.812\n",
      "Model:                            OLS   Adj. R-squared:                  0.758\n",
      "Method:                 Least Squares   F-statistic:                     15.08\n",
      "Date:                Mon, 30 May 2022   Prob (F-statistic):            0.00290\n",
      "Time:                        19:33:54   Log-Likelihood:                -11.903\n",
      "No. Observations:                  10   AIC:                             29.81\n",
      "Df Residuals:                       7   BIC:                             30.71\n",
      "Df Model:                           2                                         \n",
      "Covariance Type:            nonrobust                                         \n",
      "==============================================================================\n",
      "                 coef    std err          t      P>|t|      [0.025      0.975]\n",
      "------------------------------------------------------------------------------\n",
      "const         -3.5393      1.907     -1.856      0.106      -8.048       0.969\n",
      "x1             0.8539      0.221      3.873      0.006       0.333       1.375\n",
      "x2             0.3670      0.243      1.511      0.175      -0.207       0.942\n",
      "==============================================================================\n",
      "Omnibus:                        0.938   Durbin-Watson:                   2.182\n",
      "Prob(Omnibus):                  0.626   Jarque-Bera (JB):                0.625\n",
      "Skew:                           0.105   Prob(JB):                        0.732\n",
      "Kurtosis:                       1.794   Cond. No.                         73.2\n",
      "==============================================================================\n",
      "\n",
      "Notes:\n",
      "[1] Standard Errors assume that the covariance matrix of the errors is correctly specified.\n"
     ]
    }
   ],
   "source": [
    "est = sm.OLS(y, sm.add_constant(x)).fit()\n",
    "print(est.summary())"
   ]
  },
  {
   "cell_type": "code",
   "execution_count": 127,
   "id": "e427ada5",
   "metadata": {},
   "outputs": [
    {
     "name": "stdout",
     "output_type": "stream",
     "text": [
      "Оценка коэфициента b0= -3.5393258426966296\n",
      "Оценка коэфициента b1= 0.8539325842696636\n",
      "Оценка коэфициента b2= 0.3670411985018725\n",
      "Коэффициент определения R^2= 0.8116194043160334\n",
      "Стандартное значения ошибок коэфициента s_b0= 1.9065807170473963\n",
      "Стандартное значения ошибок коэфициента s_b1= 0.22050430957080328\n",
      "Стандартное значения ошибок коэфициента s_b2= 0.24294835693466965\n",
      "F-статистика 15.07940828402366\n",
      "Степени свободы k2= 7.0\n",
      "Стандартная ошибка возмущений (SEE) s= 0.9509084389587876\n"
     ]
    }
   ],
   "source": [
    "y_pred = est.params[0]+ est.params[1] * x['x1'] + est.params[2] * x['x2'] \n",
    "print(\"Оценка коэфициента b0=\", est.params[0])\n",
    "print(\"Оценка коэфициента b1=\", est.params[1])\n",
    "print(\"Оценка коэфициента b2=\", est.params[2])\n",
    "print(\"Коэффициент определения R^2=\", est.rsquared)\n",
    "print(\"Стандартное значения ошибок коэфициента s_b0=\", est.bse['const'])\n",
    "print(\"Стандартное значения ошибок коэфициента s_b1=\", est.bse['x1'])\n",
    "print(\"Стандартное значения ошибок коэфициента s_b2=\", est.bse['x2'])\n",
    "print(\"F-статистика\", est.fvalue)\n",
    "print(\"Степени свободы k2=\", est.df_resid)\n",
    "print(\"Стандартная ошибка возмущений (SEE) s=\", (np.sum((y - y_pred)**2)/(est.df_resid))**0.5)"
   ]
  },
  {
   "cell_type": "code",
   "execution_count": 128,
   "id": "f7c77e2b",
   "metadata": {},
   "outputs": [
    {
     "name": "stdout",
     "output_type": "stream",
     "text": [
      "Qe =  6.329588014981269\n",
      "Qr =  27.27041198501876\n",
      "Q =  33.60000000000003\n"
     ]
    }
   ],
   "source": [
    "#Вычислим Qe (SSE) — сумма квадратов оценок ошибок\n",
    "sse = np.sum((y_pred - y)**2)\n",
    "print(\"Qe = \", sse)\n",
    "\n",
    "#Вычислим Qr (SSR) — остаточная сумма квадратов (SSR)\n",
    "ssr = np.sum((y_pred - y.mean())**2)\n",
    "print(\"Qr = \", ssr)\n",
    "\n",
    "#calculate Q (SST)\n",
    "sst = ssr + sse\n",
    "print(\"Q = \", sst)"
   ]
  },
  {
   "cell_type": "markdown",
   "id": "1e123e31",
   "metadata": {},
   "source": [
    "Так как Qr>Qe, то уравнение регрессии значимо."
   ]
  },
  {
   "cell_type": "code",
   "execution_count": 129,
   "id": "9684df46",
   "metadata": {},
   "outputs": [
    {
     "name": "stdout",
     "output_type": "stream",
     "text": [
      "F-статистика  15.07940828402366\n"
     ]
    }
   ],
   "source": [
    "print(\"F-статистика \", est.fvalue)"
   ]
  },
  {
   "cell_type": "code",
   "execution_count": 130,
   "id": "e057337c",
   "metadata": {},
   "outputs": [
    {
     "name": "stdout",
     "output_type": "stream",
     "text": [
      "Критическое значение (порог) F-статистики: f(alfa=0,05;k1=p=2;k2=n-p-1=7)= 4.73741412777588\n"
     ]
    }
   ],
   "source": [
    "f_val = f.ppf(q=1-.05, dfn=est.df_model, dfd=est.df_resid)\n",
    "print(\"Критическое значение (порог) F-статистики: f(alfa=0,05;k1=p=2;k2=n-p-1=7)=\", f_val)"
   ]
  },
  {
   "cell_type": "markdown",
   "id": "f888e2c4",
   "metadata": {},
   "source": [
    "Так как статистика F больше порога F>f(…),  то уравнение значимо."
   ]
  },
  {
   "cell_type": "markdown",
   "id": "99f895f8",
   "metadata": {},
   "source": [
    "### 2.   Определить стандартизированные коэффициенты регрессии и коэффициенты эластичности. Пояснить их смысл."
   ]
  },
  {
   "cell_type": "code",
   "execution_count": 131,
   "id": "560eb253",
   "metadata": {},
   "outputs": [],
   "source": [
    "b1_ = est.params[1] * np.std(x['x1'])/np.std(y)\n",
    "b2_ = est.params[2] * np.std(x['x2'])/np.std(y)\n",
    "e1 = est.params[1] * np.mean(x['x1'])/np.mean(y)\n",
    "e2 = est.params[2] * np.mean(x['x2'])/np.mean(y)"
   ]
  },
  {
   "cell_type": "code",
   "execution_count": 132,
   "id": "dd2dbf55",
   "metadata": {},
   "outputs": [
    {
     "name": "stdout",
     "output_type": "stream",
     "text": [
      "Коэффициенты регрессии x1 0.7276941106373302\n",
      "Коэффициенты регрессии x2 0.2838854958688276\n",
      "Коэффициенты эластичности e1 1.1804362194315936\n",
      "Коэффициенты эластичности e2 0.3400528750826172\n"
     ]
    }
   ],
   "source": [
    "print('Коэффициенты регрессии x1', b1_)\n",
    "print('Коэффициенты регрессии x2', b2_)\n",
    "print('Коэффициенты эластичности e1', e1)\n",
    "print('Коэффициенты эластичности e2', e2)"
   ]
  },
  {
   "cell_type": "markdown",
   "id": "240971bd",
   "metadata": {},
   "source": [
    "Анализируя полученные значения, можно сделать следующие выводы. \n",
    "Увеличение только мощности пласта на одно значение s_x1 приводит к возрастанию добычи угля на 1 рабочего в среднем на 0,728 (s_y)\n",
    "увеличение только уровня механизации работ на одно значение sx2 приводит к возрастанию добычи угля на 1 рабочего в среднем на 0,285 (s_y).\n",
    "Увеличение первого фактора на 1% (от среднего значения) приводит в\n",
    "среднем к росту добычи угля на 1,18%, а увеличение второго фактора на 1% приводит к росту добычи на 0,34%.\n",
    "Таким образом, величина добычи угля сильнее зависит от мощности пла- ста, чем от уровня механизации работ. \n"
   ]
  },
  {
   "cell_type": "markdown",
   "id": "73b766d1",
   "metadata": {},
   "source": [
    "### 3,4. Сравнить значения коэффициента детерминации с ситуацией р=1 (см. работу №1). "
   ]
  },
  {
   "cell_type": "code",
   "execution_count": 133,
   "id": "ee53c406",
   "metadata": {},
   "outputs": [
    {
     "name": "stdout",
     "output_type": "stream",
     "text": [
      "ПР1 p= 1 R^2= 0.75019\n"
     ]
    }
   ],
   "source": [
    "print('ПР1 p=', 1, 'R^2=', 0.75019)"
   ]
  },
  {
   "cell_type": "code",
   "execution_count": 134,
   "id": "a1e3bacb",
   "metadata": {},
   "outputs": [
    {
     "name": "stdout",
     "output_type": "stream",
     "text": [
      "ПР2 p= 2 R^2= 0.8116194043160334\n"
     ]
    }
   ],
   "source": [
    "print('ПР2 p=', 2, 'R^2=', est.rsquared)"
   ]
  },
  {
   "cell_type": "code",
   "execution_count": 135,
   "id": "22efa00b",
   "metadata": {},
   "outputs": [
    {
     "name": "stdout",
     "output_type": "stream",
     "text": [
      "ПР1 R^2^= 0.71896375\n"
     ]
    }
   ],
   "source": [
    "print('ПР1 R^2^=', 1-(1-0.75019)*(len(y)-1)/(len(y)-1-1))"
   ]
  },
  {
   "cell_type": "code",
   "execution_count": 136,
   "id": "2517d194",
   "metadata": {},
   "outputs": [
    {
     "name": "stdout",
     "output_type": "stream",
     "text": [
      "ПР2 R^2^= 0.7577963769777573\n"
     ]
    }
   ],
   "source": [
    "print('ПР2 R^2^=', 1-(1-est.rsquared)*(len(y)-1)/(len(y)-2-1))"
   ]
  },
  {
   "cell_type": "markdown",
   "id": "562c5275",
   "metadata": {},
   "source": [
    "Такое увеличение (R^2) норм (R^2 с крышкой) , скорее всего, слишком мало для того, чтобы\n",
    "говорить об улучшении качества модели при включении в нее второго фактора."
   ]
  },
  {
   "cell_type": "markdown",
   "id": "e4b950ff",
   "metadata": {},
   "source": [
    "### 5. Проверить гипотезу о незначимости коэффициентов уравнения регрессии для уровня значимости 0,05. "
   ]
  },
  {
   "cell_type": "code",
   "execution_count": 137,
   "id": "9526f8cc",
   "metadata": {},
   "outputs": [
    {
     "name": "stdout",
     "output_type": "stream",
     "text": [
      "T1= 3.872634443888129\n",
      "T2= 1.5107786820742821\n"
     ]
    }
   ],
   "source": [
    "print('T1=', est.params[1]/est.bse['x1'])\n",
    "print('T2=', est.params[2]/est.bse['x2'])"
   ]
  },
  {
   "cell_type": "code",
   "execution_count": 138,
   "id": "354593c2",
   "metadata": {},
   "outputs": [],
   "source": [
    "t_val =abs(t.ppf(0.05/2, est.df_resid))"
   ]
  },
  {
   "cell_type": "code",
   "execution_count": 139,
   "id": "f2fa6cb9",
   "metadata": {},
   "outputs": [
    {
     "name": "stdout",
     "output_type": "stream",
     "text": [
      "Критическое значение (порог) T-статистики: t(alfa=0,05;k2=7)= 2.3646242510102997\n"
     ]
    }
   ],
   "source": [
    "print('Критическое значение (порог) T-статистики: t(alfa=0,05;k2=7)=', t_val)"
   ]
  },
  {
   "cell_type": "markdown",
   "id": "a86557b7",
   "metadata": {},
   "source": [
    "Проверяя неравенство |T|>t(…), получаем: первый фактор (X1 мощность пласта) значим, а второй (X2 уровень механизации) незначим. Этот результат подтверждает выводы предыдущих параграфов."
   ]
  },
  {
   "cell_type": "markdown",
   "id": "d9df6479",
   "metadata": {},
   "source": [
    "### 6.   Найти с надежностью 0,95 интервальные оценки коэффициентов  регрессии  и дисперсии возмущений."
   ]
  },
  {
   "cell_type": "code",
   "execution_count": 140,
   "id": "6d3137c8",
   "metadata": {},
   "outputs": [
    {
     "name": "stdout",
     "output_type": "stream",
     "text": [
      "Порог Т-статистики t(alfa=0.05, k=k2=7)= 2.3646242510102997\n",
      "Верхняя граница Т-статистики x1= 1.3753424221330675\n",
      "Нижняя граница Т-статистики x1= 0.33252274640625956\n",
      "Верхняя граница Т-статистики x2= 0.9415227750526987\n",
      "Нижняя граница Т-статистики x2= -0.2074403780489537\n"
     ]
    }
   ],
   "source": [
    "t_v1 = est.params[1] + t_val * est.bse['x1']\n",
    "t_n1 =est.params[1] - t_val * est.bse['x1']\n",
    "t_v2 = est.params[2] + t_val * est.bse['x2']\n",
    "t_n2 =est.params[2] - t_val * est.bse['x2']\n",
    "print(\"Порог Т-статистики t(alfa=0.05, k=k2=7)=\", t_val)\n",
    "print(\"Верхняя граница Т-статистики x1=\", t_v1)\n",
    "print(\"Нижняя граница Т-статистики x1=\", t_n1)\n",
    "print(\"Верхняя граница Т-статистики x2=\", t_v2)\n",
    "print(\"Нижняя граница Т-статистики x2=\", t_n2)"
   ]
  }
 ],
 "metadata": {
  "kernelspec": {
   "display_name": "Python 3 (ipykernel)",
   "language": "python",
   "name": "python3"
  },
  "language_info": {
   "codemirror_mode": {
    "name": "ipython",
    "version": 3
   },
   "file_extension": ".py",
   "mimetype": "text/x-python",
   "name": "python",
   "nbconvert_exporter": "python",
   "pygments_lexer": "ipython3",
   "version": "3.10.2"
  }
 },
 "nbformat": 4,
 "nbformat_minor": 5
}
