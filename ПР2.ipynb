{
 "cells": [
  {
   "cell_type": "markdown",
   "id": "f8c322c5",
   "metadata": {},
   "source": [
    "## ПР2"
   ]
  },
  {
   "cell_type": "markdown",
   "id": "e70e3834",
   "metadata": {},
   "source": [
    "#### Подготовил Вадим Пацев группа ИЭоз-60-18"
   ]
  },
  {
   "cell_type": "code",
   "execution_count": 171,
   "id": "e6b507c0",
   "metadata": {},
   "outputs": [],
   "source": [
    "import pandas as pd\n",
    "import numpy as np\n",
    "import statsmodels.api as sm\n",
    "import matplotlib.pyplot as plt\n",
    "from scipy.stats import t, chi2\n",
    "\n",
    "import warnings\n",
    "warnings.filterwarnings('ignore')"
   ]
  },
  {
   "cell_type": "code",
   "execution_count": 172,
   "id": "d9f97f48",
   "metadata": {},
   "outputs": [
    {
     "data": {
      "text/html": [
       "<div>\n",
       "<style scoped>\n",
       "    .dataframe tbody tr th:only-of-type {\n",
       "        vertical-align: middle;\n",
       "    }\n",
       "\n",
       "    .dataframe tbody tr th {\n",
       "        vertical-align: top;\n",
       "    }\n",
       "\n",
       "    .dataframe thead th {\n",
       "        text-align: right;\n",
       "    }\n",
       "</style>\n",
       "<table border=\"1\" class=\"dataframe\">\n",
       "  <thead>\n",
       "    <tr style=\"text-align: right;\">\n",
       "      <th></th>\n",
       "      <th>x</th>\n",
       "      <th>y</th>\n",
       "    </tr>\n",
       "  </thead>\n",
       "  <tbody>\n",
       "    <tr>\n",
       "      <th>0</th>\n",
       "      <td>8</td>\n",
       "      <td>5</td>\n",
       "    </tr>\n",
       "    <tr>\n",
       "      <th>1</th>\n",
       "      <td>11</td>\n",
       "      <td>10</td>\n",
       "    </tr>\n",
       "    <tr>\n",
       "      <th>2</th>\n",
       "      <td>12</td>\n",
       "      <td>10</td>\n",
       "    </tr>\n",
       "    <tr>\n",
       "      <th>3</th>\n",
       "      <td>9</td>\n",
       "      <td>7</td>\n",
       "    </tr>\n",
       "    <tr>\n",
       "      <th>4</th>\n",
       "      <td>8</td>\n",
       "      <td>5</td>\n",
       "    </tr>\n",
       "    <tr>\n",
       "      <th>5</th>\n",
       "      <td>8</td>\n",
       "      <td>6</td>\n",
       "    </tr>\n",
       "    <tr>\n",
       "      <th>6</th>\n",
       "      <td>9</td>\n",
       "      <td>6</td>\n",
       "    </tr>\n",
       "    <tr>\n",
       "      <th>7</th>\n",
       "      <td>9</td>\n",
       "      <td>5</td>\n",
       "    </tr>\n",
       "    <tr>\n",
       "      <th>8</th>\n",
       "      <td>8</td>\n",
       "      <td>6</td>\n",
       "    </tr>\n",
       "    <tr>\n",
       "      <th>9</th>\n",
       "      <td>12</td>\n",
       "      <td>8</td>\n",
       "    </tr>\n",
       "  </tbody>\n",
       "</table>\n",
       "</div>"
      ],
      "text/plain": [
       "    x   y\n",
       "0   8   5\n",
       "1  11  10\n",
       "2  12  10\n",
       "3   9   7\n",
       "4   8   5\n",
       "5   8   6\n",
       "6   9   6\n",
       "7   9   5\n",
       "8   8   6\n",
       "9  12   8"
      ]
     },
     "execution_count": 172,
     "metadata": {},
     "output_type": "execute_result"
    }
   ],
   "source": [
    "# Данные про шахты\n",
    "\n",
    "df = pd.DataFrame(data={'x': [8,11,12,9,8,8,9,9,8,12], 'y':[5,10,10,7,5,6,6,5,6,8]})\n",
    "x = df['x']\n",
    "y = df['y']\n",
    "df"
   ]
  },
  {
   "cell_type": "code",
   "execution_count": 173,
   "id": "53966aba",
   "metadata": {},
   "outputs": [
    {
     "name": "stdout",
     "output_type": "stream",
     "text": [
      "Gamma =  0.9\n",
      "Alfa = 0.09999999999999998\n",
      "Средний x= 9.4\n"
     ]
    }
   ],
   "source": [
    "gamma = 0.9\n",
    "alfa = 1 - gamma\n",
    "mean_x = np.mean(x)\n",
    "\n",
    "print(\"Gamma = \", gamma)\n",
    "print(\"Alfa =\", alfa)\n",
    "print(\"Средний x=\", mean_x)"
   ]
  },
  {
   "cell_type": "code",
   "execution_count": 174,
   "id": "815adf47",
   "metadata": {},
   "outputs": [
    {
     "name": "stdout",
     "output_type": "stream",
     "text": [
      "                            OLS Regression Results                            \n",
      "==============================================================================\n",
      "Dep. Variable:                      y   R-squared:                       0.750\n",
      "Model:                            OLS   Adj. R-squared:                  0.719\n",
      "Method:                 Least Squares   F-statistic:                     24.02\n",
      "Date:                Mon, 30 May 2022   Prob (F-statistic):            0.00119\n",
      "Time:                        19:33:21   Log-Likelihood:                -13.314\n",
      "No. Observations:                  10   AIC:                             30.63\n",
      "Df Residuals:                       8   BIC:                             31.23\n",
      "Df Model:                           1                                         \n",
      "Covariance Type:            nonrobust                                         \n",
      "==============================================================================\n",
      "                 coef    std err          t      P>|t|      [0.025      0.975]\n",
      "------------------------------------------------------------------------------\n",
      "const         -2.7541      1.976     -1.394      0.201      -7.311       1.802\n",
      "x              1.0164      0.207      4.902      0.001       0.538       1.495\n",
      "==============================================================================\n",
      "Omnibus:                        0.185   Durbin-Watson:                   2.046\n",
      "Prob(Omnibus):                  0.912   Jarque-Bera (JB):                0.367\n",
      "Skew:                          -0.143   Prob(JB):                        0.832\n",
      "Kurtosis:                       2.105   Cond. No.                         58.8\n",
      "==============================================================================\n",
      "\n",
      "Notes:\n",
      "[1] Standard Errors assume that the covariance matrix of the errors is correctly specified.\n"
     ]
    }
   ],
   "source": [
    "est = sm.OLS(y, sm.add_constant(x)).fit()\n",
    "print(est.summary())"
   ]
  },
  {
   "cell_type": "code",
   "execution_count": 175,
   "id": "4f15453e",
   "metadata": {},
   "outputs": [
    {
     "name": "stdout",
     "output_type": "stream",
     "text": [
      "Оценка коэфициента регрессии m^= 1.0163934426229508\n",
      "Оценка сдвига b^= -2.754098360655739\n",
      "Коэффициент определения R^2= 0.7501951600312255\n",
      "Стандартная ошибка возмущений (SEE) s= 1.024295039463168\n",
      "Стандартные значения ошибок коэфициента s_m^= 0.20736246951923795\n",
      "Стандартные значения ошибок сдвига s_b^= 1.9759369407631948\n",
      "F-статистика 24.02499999999999\n",
      "Степени свободы k2= 8.0\n"
     ]
    }
   ],
   "source": [
    "y_pred = est.params[0]+ est.params[1] * x \n",
    "see = (np.sum((y - (x*est.params[1] +  est.params[0]))**2)/est.df_resid)**0.5\n",
    "print(\"Оценка коэфициента регрессии m^=\", est.params[1])\n",
    "print(\"Оценка сдвига b^=\", est.params[0])\n",
    "print(\"Коэффициент определения R^2=\", est.rsquared)\n",
    "print(\"Стандартная ошибка возмущений (SEE) s=\", see)\n",
    "print(\"Стандартные значения ошибок коэфициента s_m^=\", est.bse['x'])\n",
    "print(\"Стандартные значения ошибок сдвига s_b^=\", est.bse['const'])\n",
    "print(\"F-статистика\", est.fvalue)\n",
    "print(\"Степени свободы k2=\", est.df_resid)"
   ]
  },
  {
   "cell_type": "markdown",
   "id": "c7918b43",
   "metadata": {},
   "source": [
    "### 1.   Найти с надежностью γ=0,9 интервальные оценки коэффициента регрессии m и дисперсии sigma2 возмущений."
   ]
  },
  {
   "cell_type": "code",
   "execution_count": 176,
   "id": "3000b85f",
   "metadata": {},
   "outputs": [
    {
     "name": "stdout",
     "output_type": "stream",
     "text": [
      "Порог Т-статистики t(alfa=0.05, k=k2=8)= 1.8595480375228428\n",
      "Верхняя граница = 1.40199391587334\n",
      "Нижняя граница = 0.6307929693725616\n"
     ]
    }
   ],
   "source": [
    "t_val =abs(t.ppf(0.1/2, est.df_resid))\n",
    "t_v = est.params[1] + t_val*est.bse['x']\n",
    "t_n =est.params[1] - t_val*est.bse['x']\n",
    "print(\"Порог Т-статистики t(alfa=0.05, k=k2=8)=\", t_val)\n",
    "print(\"Верхняя граница =\", t_v)\n",
    "print(\"Нижняя граница =\", t_n)"
   ]
  },
  {
   "cell_type": "code",
   "execution_count": 177,
   "id": "52954d82",
   "metadata": {},
   "outputs": [
    {
     "name": "stdout",
     "output_type": "stream",
     "text": [
      "Квантили хи-квадрат правый = 15.50731305586545\n",
      "Квантили хи-квадрат левый = 2.7326367934996614\n"
     ]
    }
   ],
   "source": [
    "chi_l = chi2.ppf(q = alfa/2,df = est.df_resid)\n",
    "chi_r = chi2.ppf(q =1 - alfa/2,df = est.df_resid)\n",
    "print(\"Квантили хи-квадрат правый =\", chi_r )\n",
    "print(\"Квантили хи-квадрат левый =\", chi_l )"
   ]
  },
  {
   "cell_type": "code",
   "execution_count": 178,
   "id": "2c861882",
   "metadata": {},
   "outputs": [
    {
     "name": "stdout",
     "output_type": "stream",
     "text": [
      "Qe =  8.393442622950822\n"
     ]
    }
   ],
   "source": [
    "#Вычислим Qe (SSE) — сумма квадратов оценок ошибок\n",
    "sse = np.sum((y_pred - y)**2)\n",
    "print(\"Qe = \", sse)"
   ]
  },
  {
   "cell_type": "code",
   "execution_count": 179,
   "id": "b17ff7b7",
   "metadata": {},
   "outputs": [
    {
     "name": "stdout",
     "output_type": "stream",
     "text": [
      "Верхняя граница доверительного интервала дисперсии sigma2 3.0715544205936793\n",
      "Нижняя граница доверительного интервала дисперсии sigma2 0.5412570567649762\n"
     ]
    }
   ],
   "source": [
    "print(\"Верхняя граница доверительного интервала дисперсии sigma2\", sse/chi_l)\n",
    "print(\"Нижняя граница доверительного интервала дисперсии sigma2\", sse/chi_r)"
   ]
  },
  {
   "cell_type": "markdown",
   "id": "4ca64769",
   "metadata": {},
   "source": [
    "### 2.   Построить 90-процентные доверительные интервалы линии регрессии и индивидуальных значений отклика.\n"
   ]
  },
  {
   "cell_type": "code",
   "execution_count": 180,
   "id": "c2acf858",
   "metadata": {},
   "outputs": [],
   "source": [
    "x_2 =  np.array([6,7,8,9,10,11,12,13,14])\n",
    "y_ = x_2* est.params[1] +  est.params[0]\n",
    "s_y_ = (see**2/10 + (x_2 - mean_x)**2*est.bse['x']**2)**0.5\n",
    "n_g = y_- t_val * s_y_\n",
    "v_g = y_+ t_val * s_y_\n",
    "s_y_star = (s_y_**2 + see**2)**0.5\n",
    "n_ind = y_- t_val * s_y_star\n",
    "v_ind = y_+ t_val * s_y_star"
   ]
  },
  {
   "cell_type": "code",
   "execution_count": 181,
   "id": "dc28b0d7",
   "metadata": {},
   "outputs": [
    {
     "data": {
      "text/html": [
       "<div>\n",
       "<style scoped>\n",
       "    .dataframe tbody tr th:only-of-type {\n",
       "        vertical-align: middle;\n",
       "    }\n",
       "\n",
       "    .dataframe tbody tr th {\n",
       "        vertical-align: top;\n",
       "    }\n",
       "\n",
       "    .dataframe thead th {\n",
       "        text-align: right;\n",
       "    }\n",
       "</style>\n",
       "<table border=\"1\" class=\"dataframe\">\n",
       "  <thead>\n",
       "    <tr style=\"text-align: right;\">\n",
       "      <th></th>\n",
       "      <th>x</th>\n",
       "      <th>y^</th>\n",
       "      <th>s_y^</th>\n",
       "      <th>НГ</th>\n",
       "      <th>ВГ</th>\n",
       "      <th>s_y*</th>\n",
       "      <th>N ind</th>\n",
       "      <th>V ind</th>\n",
       "    </tr>\n",
       "  </thead>\n",
       "  <tbody>\n",
       "    <tr>\n",
       "      <th>0</th>\n",
       "      <td>6</td>\n",
       "      <td>3.344262</td>\n",
       "      <td>0.775879</td>\n",
       "      <td>1.901477</td>\n",
       "      <td>4.787047</td>\n",
       "      <td>1.284978</td>\n",
       "      <td>0.954784</td>\n",
       "      <td>5.733741</td>\n",
       "    </tr>\n",
       "    <tr>\n",
       "      <th>1</th>\n",
       "      <td>7</td>\n",
       "      <td>4.360656</td>\n",
       "      <td>0.593796</td>\n",
       "      <td>3.256464</td>\n",
       "      <td>5.464847</td>\n",
       "      <td>1.183965</td>\n",
       "      <td>2.159015</td>\n",
       "      <td>6.562296</td>\n",
       "    </tr>\n",
       "    <tr>\n",
       "      <th>2</th>\n",
       "      <td>8</td>\n",
       "      <td>5.377049</td>\n",
       "      <td>0.434967</td>\n",
       "      <td>4.568207</td>\n",
       "      <td>6.185892</td>\n",
       "      <td>1.112824</td>\n",
       "      <td>3.307700</td>\n",
       "      <td>7.446398</td>\n",
       "    </tr>\n",
       "    <tr>\n",
       "      <th>3</th>\n",
       "      <td>9</td>\n",
       "      <td>6.393443</td>\n",
       "      <td>0.334362</td>\n",
       "      <td>5.771681</td>\n",
       "      <td>7.015205</td>\n",
       "      <td>1.077487</td>\n",
       "      <td>4.389804</td>\n",
       "      <td>8.397081</td>\n",
       "    </tr>\n",
       "    <tr>\n",
       "      <th>4</th>\n",
       "      <td>10</td>\n",
       "      <td>7.409836</td>\n",
       "      <td>0.346984</td>\n",
       "      <td>6.764603</td>\n",
       "      <td>8.055069</td>\n",
       "      <td>1.081470</td>\n",
       "      <td>5.398790</td>\n",
       "      <td>9.420882</td>\n",
       "    </tr>\n",
       "    <tr>\n",
       "      <th>5</th>\n",
       "      <td>11</td>\n",
       "      <td>8.426230</td>\n",
       "      <td>0.463677</td>\n",
       "      <td>7.564001</td>\n",
       "      <td>9.288458</td>\n",
       "      <td>1.124356</td>\n",
       "      <td>6.335436</td>\n",
       "      <td>10.517023</td>\n",
       "    </tr>\n",
       "    <tr>\n",
       "      <th>6</th>\n",
       "      <td>12</td>\n",
       "      <td>9.442623</td>\n",
       "      <td>0.628962</td>\n",
       "      <td>8.273039</td>\n",
       "      <td>10.612207</td>\n",
       "      <td>1.201987</td>\n",
       "      <td>7.207470</td>\n",
       "      <td>11.677776</td>\n",
       "    </tr>\n",
       "    <tr>\n",
       "      <th>7</th>\n",
       "      <td>13</td>\n",
       "      <td>10.459016</td>\n",
       "      <td>0.813749</td>\n",
       "      <td>8.945811</td>\n",
       "      <td>11.972222</td>\n",
       "      <td>1.308193</td>\n",
       "      <td>8.026369</td>\n",
       "      <td>12.891663</td>\n",
       "    </tr>\n",
       "    <tr>\n",
       "      <th>8</th>\n",
       "      <td>14</td>\n",
       "      <td>11.475410</td>\n",
       "      <td>1.007363</td>\n",
       "      <td>9.602169</td>\n",
       "      <td>13.348650</td>\n",
       "      <td>1.436649</td>\n",
       "      <td>8.803891</td>\n",
       "      <td>14.146928</td>\n",
       "    </tr>\n",
       "  </tbody>\n",
       "</table>\n",
       "</div>"
      ],
      "text/plain": [
       "    x         y^      s_y^        НГ         ВГ      s_y*     N ind      V ind\n",
       "0   6   3.344262  0.775879  1.901477   4.787047  1.284978  0.954784   5.733741\n",
       "1   7   4.360656  0.593796  3.256464   5.464847  1.183965  2.159015   6.562296\n",
       "2   8   5.377049  0.434967  4.568207   6.185892  1.112824  3.307700   7.446398\n",
       "3   9   6.393443  0.334362  5.771681   7.015205  1.077487  4.389804   8.397081\n",
       "4  10   7.409836  0.346984  6.764603   8.055069  1.081470  5.398790   9.420882\n",
       "5  11   8.426230  0.463677  7.564001   9.288458  1.124356  6.335436  10.517023\n",
       "6  12   9.442623  0.628962  8.273039  10.612207  1.201987  7.207470  11.677776\n",
       "7  13  10.459016  0.813749  8.945811  11.972222  1.308193  8.026369  12.891663\n",
       "8  14  11.475410  1.007363  9.602169  13.348650  1.436649  8.803891  14.146928"
      ]
     },
     "execution_count": 181,
     "metadata": {},
     "output_type": "execute_result"
    }
   ],
   "source": [
    "data={'x': x_2, 'y^':y_, \"s_y^\":s_y_, \"НГ\": n_g, \"ВГ\": v_g, \"s_y*\": s_y_star, 'N ind': n_ind, 'V ind': v_ind}\n",
    "pd.DataFrame(data=data)"
   ]
  },
  {
   "cell_type": "code",
   "execution_count": 182,
   "id": "eba639bb",
   "metadata": {},
   "outputs": [
    {
     "data": {
      "image/png": "[encoded data removed]",
      "text/plain": [
       "<Figure size 432x288 with 1 Axes>"
      ]
     },
     "metadata": {
      "needs_background": "light"
     },
     "output_type": "display_data"
    }
   ],
   "source": [
    "for key in data.keys():\n",
    "    if key != \"s_y^\" and key != \"s_y*\" and key != 'x':\n",
    "        plt.plot(x_2, data[key], label=key)\n",
    "plt.legend()\n",
    "plt.show()"
   ]
  }
 ],
 "metadata": {
  "kernelspec": {
   "display_name": "Python 3 (ipykernel)",
   "language": "python",
   "name": "python3"
  },
  "language_info": {
   "codemirror_mode": {
    "name": "ipython",
    "version": 3
   },
   "file_extension": ".py",
   "mimetype": "text/x-python",
   "name": "python",
   "nbconvert_exporter": "python",
   "pygments_lexer": "ipython3",
   "version": "3.10.2"
  }
 },
 "nbformat": 4,
 "nbformat_minor": 5
}
