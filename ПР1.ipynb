{
 "cells": [
  {
   "cell_type": "markdown",
   "id": "2f719e89",
   "metadata": {},
   "source": [
    "## ПР1\n"
   ]
  },
  {
   "cell_type": "markdown",
   "id": "906cec88",
   "metadata": {},
   "source": [
    "#### Подготовил Вадим Пацев группа ИЭоз-60-18"
   ]
  },
  {
   "cell_type": "code",
   "execution_count": 7,
   "id": "748760ef",
   "metadata": {},
   "outputs": [],
   "source": [
    "import pandas as pd\n",
    "import matplotlib.pyplot as plt\n",
    "import numpy as np\n",
    "import statsmodels.api as sm\n",
    "from statistics import stdev\n",
    "from scipy.stats import t, f\n",
    "\n",
    "import warnings\n",
    "warnings.filterwarnings('ignore')"
   ]
  },
  {
   "cell_type": "code",
   "execution_count": 8,
   "id": "0e093500",
   "metadata": {},
   "outputs": [
    {
     "data": {
      "text/html": [
       "<div>\n",
       "<style scoped>\n",
       "    .dataframe tbody tr th:only-of-type {\n",
       "        vertical-align: middle;\n",
       "    }\n",
       "\n",
       "    .dataframe tbody tr th {\n",
       "        vertical-align: top;\n",
       "    }\n",
       "\n",
       "    .dataframe thead th {\n",
       "        text-align: right;\n",
       "    }\n",
       "</style>\n",
       "<table border=\"1\" class=\"dataframe\">\n",
       "  <thead>\n",
       "    <tr style=\"text-align: right;\">\n",
       "      <th></th>\n",
       "      <th>x</th>\n",
       "      <th>y</th>\n",
       "    </tr>\n",
       "  </thead>\n",
       "  <tbody>\n",
       "    <tr>\n",
       "      <th>0</th>\n",
       "      <td>8</td>\n",
       "      <td>5</td>\n",
       "    </tr>\n",
       "    <tr>\n",
       "      <th>1</th>\n",
       "      <td>11</td>\n",
       "      <td>10</td>\n",
       "    </tr>\n",
       "    <tr>\n",
       "      <th>2</th>\n",
       "      <td>12</td>\n",
       "      <td>10</td>\n",
       "    </tr>\n",
       "    <tr>\n",
       "      <th>3</th>\n",
       "      <td>9</td>\n",
       "      <td>7</td>\n",
       "    </tr>\n",
       "    <tr>\n",
       "      <th>4</th>\n",
       "      <td>8</td>\n",
       "      <td>5</td>\n",
       "    </tr>\n",
       "    <tr>\n",
       "      <th>5</th>\n",
       "      <td>8</td>\n",
       "      <td>6</td>\n",
       "    </tr>\n",
       "    <tr>\n",
       "      <th>6</th>\n",
       "      <td>9</td>\n",
       "      <td>6</td>\n",
       "    </tr>\n",
       "    <tr>\n",
       "      <th>7</th>\n",
       "      <td>9</td>\n",
       "      <td>5</td>\n",
       "    </tr>\n",
       "    <tr>\n",
       "      <th>8</th>\n",
       "      <td>8</td>\n",
       "      <td>6</td>\n",
       "    </tr>\n",
       "    <tr>\n",
       "      <th>9</th>\n",
       "      <td>12</td>\n",
       "      <td>8</td>\n",
       "    </tr>\n",
       "  </tbody>\n",
       "</table>\n",
       "</div>"
      ],
      "text/plain": [
       "    x   y\n",
       "0   8   5\n",
       "1  11  10\n",
       "2  12  10\n",
       "3   9   7\n",
       "4   8   5\n",
       "5   8   6\n",
       "6   9   6\n",
       "7   9   5\n",
       "8   8   6\n",
       "9  12   8"
      ]
     },
     "execution_count": 8,
     "metadata": {},
     "output_type": "execute_result"
    }
   ],
   "source": [
    "# Данные про шахты\n",
    "\n",
    "df = pd.DataFrame(data={'x': [8,11,12,9,8,8,9,9,8,12], 'y':[5,10,10,7,5,6,6,5,6,8]})\n",
    "x = df['x']\n",
    "y = df['y']\n",
    "df"
   ]
  },
  {
   "cell_type": "markdown",
   "id": "55b9b47c",
   "metadata": {},
   "source": [
    "### 1. Построить поле корреляции. Визуально определить, можно ли зависимость Y(X) считать линейной."
   ]
  },
  {
   "cell_type": "code",
   "execution_count": 9,
   "id": "dfcfce29",
   "metadata": {},
   "outputs": [
    {
     "data": {
      "text/plain": [
       "[<matplotlib.lines.Line2D at 0x1576fd900>]"
      ]
     },
     "execution_count": 9,
     "metadata": {},
     "output_type": "execute_result"
    },
    {
     "data": {
      "image/png": "[encoded data removed]",
      "text/plain": [
       "<Figure size 432x288 with 1 Axes>"
      ]
     },
     "metadata": {
      "needs_background": "light"
     },
     "output_type": "display_data"
    }
   ],
   "source": [
    "plt.plot(x, y, 'o', label='исходные данные')"
   ]
  },
  {
   "cell_type": "markdown",
   "id": "babdddff",
   "metadata": {},
   "source": [
    "### 2. Оценить функцию линейной регрессии Y по X. Пояснить, в чем смысл ее параметров."
   ]
  },
  {
   "cell_type": "code",
   "execution_count": 10,
   "id": "d71933ce",
   "metadata": {},
   "outputs": [
    {
     "name": "stdout",
     "output_type": "stream",
     "text": [
      "                            OLS Regression Results                            \n",
      "==============================================================================\n",
      "Dep. Variable:                      y   R-squared:                       0.750\n",
      "Model:                            OLS   Adj. R-squared:                  0.719\n",
      "Method:                 Least Squares   F-statistic:                     24.02\n",
      "Date:                Mon, 30 May 2022   Prob (F-statistic):            0.00119\n",
      "Time:                        19:33:05   Log-Likelihood:                -13.314\n",
      "No. Observations:                  10   AIC:                             30.63\n",
      "Df Residuals:                       8   BIC:                             31.23\n",
      "Df Model:                           1                                         \n",
      "Covariance Type:            nonrobust                                         \n",
      "==============================================================================\n",
      "                 coef    std err          t      P>|t|      [0.025      0.975]\n",
      "------------------------------------------------------------------------------\n",
      "const         -2.7541      1.976     -1.394      0.201      -7.311       1.802\n",
      "x              1.0164      0.207      4.902      0.001       0.538       1.495\n",
      "==============================================================================\n",
      "Omnibus:                        0.185   Durbin-Watson:                   2.046\n",
      "Prob(Omnibus):                  0.912   Jarque-Bera (JB):                0.367\n",
      "Skew:                          -0.143   Prob(JB):                        0.832\n",
      "Kurtosis:                       2.105   Cond. No.                         58.8\n",
      "==============================================================================\n",
      "\n",
      "Notes:\n",
      "[1] Standard Errors assume that the covariance matrix of the errors is correctly specified.\n"
     ]
    }
   ],
   "source": [
    "est = sm.OLS(y, sm.add_constant(x)).fit()\n",
    "print(est.summary())"
   ]
  },
  {
   "cell_type": "code",
   "execution_count": 11,
   "id": "7bdd726d",
   "metadata": {},
   "outputs": [
    {
     "name": "stdout",
     "output_type": "stream",
     "text": [
      "Оценка коэфициента регрессии m^= 1.0163934426229508\n",
      "Оценка сдвига b^= -2.754098360655739\n",
      "Коэффициент определения R^2= 0.7501951600312255\n",
      "Стандартная ошибка возмущений (SEE) s= 1.024295039463168\n",
      "Стандартные значения ошибок коэфициента s_m^= 0.20736246951923795\n",
      "Стандартные значения ошибок сдвига s_b^= 1.9759369407631948\n",
      "F-статистика 24.02499999999999\n",
      "Степени свободы k2= 8.0\n"
     ]
    }
   ],
   "source": [
    "y_pred = est.params[0]+ est.params[1] * x \n",
    "see = (np.sum((y - (x*est.params[1] +  est.params[0]))**2)/est.df_resid)**0.5\n",
    "print(\"Оценка коэфициента регрессии m^=\", est.params[1])\n",
    "print(\"Оценка сдвига b^=\", est.params[0])\n",
    "print(\"Коэффициент определения R^2=\", est.rsquared)\n",
    "print(\"Стандартная ошибка возмущений (SEE) s=\", see)\n",
    "print(\"Стандартные значения ошибок коэфициента s_m^=\", est.bse['x'])\n",
    "print(\"Стандартные значения ошибок сдвига s_b^=\", est.bse['const'])\n",
    "print(\"F-статистика\", est.fvalue)\n",
    "print(\"Степени свободы k2=\", est.df_resid)"
   ]
  },
  {
   "cell_type": "markdown",
   "id": "97d43983",
   "metadata": {},
   "source": [
    "### 3. На поле корреляции показать линию регрессии."
   ]
  },
  {
   "cell_type": "code",
   "execution_count": 12,
   "id": "a8345fad",
   "metadata": {},
   "outputs": [
    {
     "data": {
      "image/png": "[encoded data removed]",
      "text/plain": [
       "<Figure size 432x288 with 1 Axes>"
      ]
     },
     "metadata": {
      "needs_background": "light"
     },
     "output_type": "display_data"
    }
   ],
   "source": [
    "plt.plot(x, y, 'o', label='Исходные данные')\n",
    "plt.plot(x, y_pred, 'r', label='Линия регрессии')\n",
    "plt.legend()\n",
    "plt.show()"
   ]
  },
  {
   "cell_type": "markdown",
   "id": "013adc82",
   "metadata": {},
   "source": [
    "### 4. Дать прогноз добычи угля на одного рабочего для двух открываемых шахт: со значениями толщины пласта 8 м и 15 м."
   ]
  },
  {
   "cell_type": "code",
   "execution_count": 13,
   "id": "dfd419dd",
   "metadata": {},
   "outputs": [
    {
     "name": "stdout",
     "output_type": "stream",
     "text": [
      "Прогноз при x=8, y^= 5.377049180327868\n",
      "Прогноз при x=15, y^= 12.491803278688524\n"
     ]
    }
   ],
   "source": [
    "print(\"Прогноз при x=8, y^=\", est.params[0] + est.params[1]*8)\n",
    "print(\"Прогноз при x=15, y^=\", est.params[0] + est.params[1]*15)"
   ]
  },
  {
   "cell_type": "markdown",
   "id": "d4f168b3",
   "metadata": {},
   "source": [
    "### 5. Определить абсолютное значение коэффициента корреляции между переменными Х и Y. Является ли связь между этими переменными тесной?"
   ]
  },
  {
   "cell_type": "code",
   "execution_count": 14,
   "id": "aa5dd3b1",
   "metadata": {},
   "outputs": [
    {
     "name": "stdout",
     "output_type": "stream",
     "text": [
      "Коэффициент корреляции Пирсона r= 0.8661380721520244\n"
     ]
    }
   ],
   "source": [
    "print(\"Коэффициент корреляции Пирсона r=\", est.rsquared**0.5)"
   ]
  },
  {
   "cell_type": "markdown",
   "id": "92b08dc6",
   "metadata": {},
   "source": [
    "|r| > 0.7, то связь между y и х тесная."
   ]
  },
  {
   "cell_type": "markdown",
   "id": "3abbe472",
   "metadata": {},
   "source": [
    "### 6. Определить остаточную, общую и регрессионную суммы квадратов. Пояснить их смысл. Найти коэффициент детерминации и пояснить его смысл."
   ]
  },
  {
   "cell_type": "code",
   "execution_count": 15,
   "id": "0cff1bb5",
   "metadata": {},
   "outputs": [
    {
     "name": "stdout",
     "output_type": "stream",
     "text": [
      "Qe =  8.393442622950822\n",
      "Qr =  25.20655737704919\n",
      "Q =  33.60000000000001\n"
     ]
    }
   ],
   "source": [
    "#Вычислим Qe (SSE) — сумма квадратов оценок ошибок\n",
    "sse = np.sum((y_pred - y)**2)\n",
    "print(\"Qe = \", sse)\n",
    "\n",
    "#Вычислим Qr (SSR) — остаточная сумма квадратов (SSR)\n",
    "ssr = np.sum((y_pred - y.mean())**2)\n",
    "print(\"Qr = \", ssr)\n",
    "\n",
    "#calculate Q (SST)\n",
    "sst = ssr + sse\n",
    "print(\"Q = \", sst)\n"
   ]
  },
  {
   "cell_type": "markdown",
   "id": "753e76c8",
   "metadata": {},
   "source": [
    "Так как Qr>Qe, то уравнение регрессии значимо."
   ]
  },
  {
   "cell_type": "code",
   "execution_count": 16,
   "id": "8e270c1d",
   "metadata": {},
   "outputs": [
    {
     "name": "stdout",
     "output_type": "stream",
     "text": [
      "R^2 =  0.7501951600312257\n"
     ]
    }
   ],
   "source": [
    "print(\"R^2 = \",  ssr/sst)"
   ]
  },
  {
   "cell_type": "markdown",
   "id": "7ab93445",
   "metadata": {},
   "source": [
    "R^2 > 0.5, то уравнение регрессии значимо."
   ]
  },
  {
   "cell_type": "markdown",
   "id": "a9c5f78d",
   "metadata": {},
   "source": [
    "### 7. Используя F-статистику, оценить на уровне a=0,05 значимость полученного уравнения регрессии."
   ]
  },
  {
   "cell_type": "code",
   "execution_count": 17,
   "id": "21e64d5b",
   "metadata": {},
   "outputs": [
    {
     "name": "stdout",
     "output_type": "stream",
     "text": [
      "F-статистика  24.02499999999999\n"
     ]
    }
   ],
   "source": [
    "print(\"F-статистика \", est.fvalue)"
   ]
  },
  {
   "cell_type": "code",
   "execution_count": 18,
   "id": "dbdfc8f1",
   "metadata": {},
   "outputs": [
    {
     "name": "stdout",
     "output_type": "stream",
     "text": [
      "Критическое значение (порог) F-статистики: f(alfa=0,05;k1=p=1;k2=n-p-1=8)= 5.317655071578714\n"
     ]
    }
   ],
   "source": [
    "f_val = f.ppf(q=1-.05, dfn=est.df_model, dfd=est.df_resid)\n",
    "print(\"Критическое значение (порог) F-статистики: f(alfa=0,05;k1=p=1;k2=n-p-1=8)=\", f_val)"
   ]
  },
  {
   "cell_type": "markdown",
   "id": "b6680dde",
   "metadata": {},
   "source": [
    "Так как статистика F больше порога F>f(…),  то уравнение значимо."
   ]
  },
  {
   "cell_type": "markdown",
   "id": "2c1709bf",
   "metadata": {},
   "source": [
    "### 8. По критерию Стьюдента проверить значимость коэффициента линейной регрессии."
   ]
  },
  {
   "cell_type": "code",
   "execution_count": 19,
   "id": "75ac85b9",
   "metadata": {},
   "outputs": [
    {
     "name": "stdout",
     "output_type": "stream",
     "text": [
      "Статистика Стьюдента T=  4.9015303732609885\n"
     ]
    }
   ],
   "source": [
    "T_val = est.params[1]/est.bse['x']\n",
    "print(\"Статистика Стьюдента T= \", T_val)"
   ]
  },
  {
   "cell_type": "code",
   "execution_count": 20,
   "id": "30b0d5a6",
   "metadata": {},
   "outputs": [
    {
     "name": "stdout",
     "output_type": "stream",
     "text": [
      "Порог Т-статистики t(alfa=0.05, k=k2=8)= 2.306004135033371\n"
     ]
    }
   ],
   "source": [
    "t_val =abs(t.ppf(0.05/2, est.df_resid))\n",
    "print(\"Порог Т-статистики t(alfa=0.05, k=k2=8)=\", t_val)"
   ]
  },
  {
   "cell_type": "markdown",
   "id": "98e0cfff",
   "metadata": {},
   "source": [
    "Так как |T|>t(…), то коэффициент регрессии значим, то есть х существенно влияет на y."
   ]
  },
  {
   "cell_type": "markdown",
   "id": "44dfce8f",
   "metadata": {},
   "source": [
    "Можно проверить, что F=T^2, f=t^2."
   ]
  },
  {
   "cell_type": "code",
   "execution_count": 21,
   "id": "04d903d2",
   "metadata": {},
   "outputs": [
    {
     "name": "stdout",
     "output_type": "stream",
     "text": [
      "F= 24.02499999999999 T^2=  24.025000000000006\n"
     ]
    }
   ],
   "source": [
    "print('F=', est.fvalue, \"T^2= \", T_val**2)"
   ]
  },
  {
   "cell_type": "code",
   "execution_count": 23,
   "id": "c65f9d0f",
   "metadata": {},
   "outputs": [
    {
     "name": "stdout",
     "output_type": "stream",
     "text": [
      "f= 5.317655071578714 t^2=  5.317655070791005\n"
     ]
    }
   ],
   "source": [
    "print('f=', f_val, \"t^2= \", t_val**2)"
   ]
  }
 ],
 "metadata": {
  "kernelspec": {
   "display_name": "Python 3 (ipykernel)",
   "language": "python",
   "name": "python3"
  },
  "language_info": {
   "codemirror_mode": {
    "name": "ipython",
    "version": 3
   },
   "file_extension": ".py",
   "mimetype": "text/x-python",
   "name": "python",
   "nbconvert_exporter": "python",
   "pygments_lexer": "ipython3",
   "version": "3.10.2"
  }
 },
 "nbformat": 4,
 "nbformat_minor": 5
}
